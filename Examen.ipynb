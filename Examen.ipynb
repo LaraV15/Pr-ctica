{
  "nbformat": 4,
  "nbformat_minor": 0,
  "metadata": {
    "colab": {
      "provenance": [],
      "collapsed_sections": [],
      "include_colab_link": true
    },
    "kernelspec": {
      "name": "python3",
      "display_name": "Python 3"
    },
    "language_info": {
      "name": "python"
    }
  },
  "cells": [
    {
      "cell_type": "markdown",
      "metadata": {
        "id": "view-in-github",
        "colab_type": "text"
      },
      "source": [
        "<a href=\"https://colab.research.google.com/github/LaraV15/Pr-ctica/blob/main/Examen.ipynb\" target=\"_parent\"><img src=\"https://colab.research.google.com/assets/colab-badge.svg\" alt=\"Open In Colab\"/></a>"
      ]
    },
    {
      "cell_type": "markdown",
      "source": [
        "## Ejercicio 1 (20 puntos)\n",
        "\n",
        "Escribir un programa que pregunte el nombre completo del usuario en la consola y después muestre por pantalla el nombre completo del usuario tres veces, una con todas las letras minúsculas, otra con todas las letras mayúsculasa y otra con el nombre al revés. El usuario puede introducir su nombre combinando mayúsculas y minúsculas como quiera.\n",
        "\n",
        "*Ejemplo*\n",
        "\n",
        "> input >> el RatóN PeRez\n",
        "\n",
        "> output >> el ratón perez\n",
        "\n",
        "> output >> EL RATÓN PEREZ\n",
        "\n",
        "> output >> zeReP NótaR le\n",
        "\n",
        "\n",
        "\n"
      ],
      "metadata": {
        "id": "B8ysPELwTntS"
      }
    },
    {
      "cell_type": "markdown",
      "source": [
        "#Solución 1"
      ],
      "metadata": {
        "id": "_sOpg9ZSrbvn"
      }
    },
    {
      "cell_type": "code",
      "source": [
        "nombre=input('Ingrese su nombre completo: ')\n",
        "\n",
        "print(nombre.lower())\n",
        "print(nombre.upper())\n",
        "\n",
        "al_reves=[]\n",
        "i = len(nombre)\n",
        "while i > 0: \n",
        "    al_reves += nombre[i-1]\n",
        "    i = i - 1 \n",
        "\n",
        "palabra=''\n",
        "for i in al_reves:\n",
        "  palabra=palabra+i\n",
        "\n",
        "print(palabra)\n",
        "\n"
      ],
      "metadata": {
        "colab": {
          "base_uri": "https://localhost:8080/"
        },
        "id": "aC873aAql7Wm",
        "outputId": "50199845-c0d8-4fb6-c2ed-efd0405156e4"
      },
      "execution_count": null,
      "outputs": [
        {
          "output_type": "stream",
          "name": "stdout",
          "text": [
            "Ingrese su nombre completo: Lara Rita Valeri\n",
            "lara rita valeri\n",
            "LARA RITA VALERI\n",
            "irelaV atiR araL\n"
          ]
        }
      ]
    },
    {
      "cell_type": "markdown",
      "source": [
        "## Ejercicio 2 (20 puntos)\n",
        "\n",
        "Escribir un programa que lea un entero positivo, $n$, introducido por el usuario y después muestre en pantalla la suma de todos los enteros desde 1 hasta $n$.\n",
        "\n",
        "En caso de que el usuario no ingrese un entero positivo, pedirle que vuelva a ingresarlo. Asumimos que el usuario siempre ingresa un número entero. "
      ],
      "metadata": {
        "id": "2XIzpZivRj9A"
      }
    },
    {
      "cell_type": "markdown",
      "source": [
        "## Solución 2"
      ],
      "metadata": {
        "id": "SIAf8m3VUs_h"
      }
    },
    {
      "cell_type": "code",
      "source": [
        "num=int(input('Ingrese el número: '))\n",
        "num_original=num\n",
        "while num <= 0:\n",
        "  num=int(input('El dato ingresado no es un número entero positivo, intente nuevamente: '))\n",
        "\n",
        "sum=0\n",
        "while num>0:\n",
        "  sum=sum+num\n",
        "  num=num-1\n",
        "\n",
        "print('La suma de todos los enteros desde 1 hasta', num_original,'es:', sum)\n"
      ],
      "metadata": {
        "colab": {
          "base_uri": "https://localhost:8080/"
        },
        "id": "HWGiis_mo4Js",
        "outputId": "1a0f7e63-3f3c-4fb8-d5ad-deb54b5a920a"
      },
      "execution_count": null,
      "outputs": [
        {
          "output_type": "stream",
          "name": "stdout",
          "text": [
            "Ingrese el número: 10\n",
            "La suma de todos los enteros desde 1 hasta 10 es: 55\n"
          ]
        }
      ]
    },
    {
      "cell_type": "markdown",
      "source": [
        "## Ejercicio 3 (60 puntos)\n",
        "\n",
        "Escribir un programa que simule ser un kiosco que solo trabaja con ventas online. El kiosco hoy en día vende sus productos por whatsapp y tiene una tabla de excel donde para cada producto tiene el precio y el stock. La persona encargada del kiosco cada vez que recibe un pedido actualiza la tabla manualmente. Las dueñas del kiosco quieren automatizar el proceso.\n",
        "\n",
        "Realice un menú que:\n",
        "\n",
        "      1.   Simule un carrito de compras. \n",
        "            a. Debe preguntarle al usuario que producto y que cantidad desea\n",
        "            b. Debe informar el costo total de la compra y actualizar el stock.\n",
        "               En caso de no haber stock suficiente debe informarlo y frenar el proceso de compra.        \n",
        "      2.   Muestre los productos y sus precios\n",
        "      3.   Permita el ingreso como administrador al sistema. Para esto, el usuario debe ingresarse la contraseña \"admin\". \n",
        "           Luego, una vez dentro se le debe mostrar el siguiente submenu al administrador que tenga las siguientes opciones:\n",
        "            a. Agregar un producto con su precio y stock\n",
        "            b. Modificar el precio de un producto \n",
        "            c. Modificar el stock de un producto\n",
        "            d. Salir\n",
        "\n",
        "      4. Salir\n",
        "  \n",
        "| Producto | Precio| Stock |\n",
        "| ----- | --- | --- |\n",
        "|Topline 7 | 100 | 145 |\n",
        "|Cadbury de frutilla | 304| 25 |\n",
        "|Frutigram| 130| 6 |\n",
        "|Coca cola 1.5lt | 500| 12 |\n",
        "\n",
        "Realice todas las verificaciones que crea necesarias.\n",
        "Pista: Lo primero que debe hacer es cargar la tabla de arriba en una estructura de datos que haya aprendido en la materia y crea útil para realizar lo que se pide arriba. NO genere la tabla a partir del comando input. "
      ],
      "metadata": {
        "id": "SfWNNpXZXumo"
      }
    },
    {
      "cell_type": "markdown",
      "source": [
        "# Solución 3"
      ],
      "metadata": {
        "id": "pCDNrt-seQmq"
      }
    },
    {
      "cell_type": "code",
      "source": [],
      "metadata": {
        "id": "plPAnlvb-geA"
      },
      "execution_count": null,
      "outputs": []
    },
    {
      "cell_type": "code",
      "source": [
        "datos_kiosco={'topline 7':[100,145],'cadbury de frutilla':[304,25],'frutigram':[130,6],'coca cola 1.5lt':[500,12]}\n",
        "\n",
        "print('¿Qué desea hacer? \\n Ingrese c para realizar una compra \\n Ingrese s para ver el stock \\n Ingrese i para ingresar al sistema \\n Ingrese * para salir')\n",
        "opc=input().lower()\n",
        "\n",
        "while opc != 'c' and opc != 's' and opc != 'i' and opc != '*':\n",
        "  print('La opción ingresada no es correctta, intente nuevamente') \n",
        "  opc=input()\n",
        "\n",
        "while opc != '*':\n",
        "   if opc=='c':\n",
        "    producto=input('¿Qué producto desea?')\n",
        "    #verificar que el producto este en el quiosco\n",
        "    if producto in datos_kiosco:\n",
        "      cantidad=int(input('¿Qué cantidad del producto desea?'))\n",
        "      #verificar que la cantidad sea mas chica que el stock\n",
        "      if int(datos_kiosco[producto][1])<cantidad:\n",
        "        print('No posee esa cantidad del producto, la cantidad que usted posea de ', producto, 'es', datos_kiosco[producto][1])\n",
        "      else:\n",
        "        print('El costo de la venta es, ', cantidad*datos_kiosco[producto][0])\n",
        "    else:\n",
        "      print('El producto no corresponde a uno que se encuentra en los datos del quiosco intente nuevamente')\n",
        "\n",
        "   if opc=='s':\n",
        "     print(\"Los precios y stock de los productos de su kiosco son: \")\n",
        "     for i in datos_kiosco:\n",
        "       print(i, 'Precio: ', datos_kiosco[i][0], 'Stock: ', datos_kiosco[i][1])\n",
        "   \n",
        "   if opc=='i':\n",
        "     contra=input('Ingrese la contraseña: ')\n",
        "     if contra != 'admin':\n",
        "       print('Contraseña incorrecta')\n",
        "     else: #armo el submenu\n",
        "       print('Ingrese: \\n a ---> para agregar un producto con su precio y stock \\n mp ---> para modificar el precio de un producto \\n ms ---> para modificar el stock de un producto \\n salir---> para salir del modo administrador') \n",
        "       opc2=input().lower()\n",
        "       lista_info=[]\n",
        "       \n",
        "       while opc2 != 'salir':\n",
        "\n",
        "        if opc2 == 'a':\n",
        "          prod = input('Ingrese el nombre del prodcuto que desea agregar: ').lower()\n",
        "          prec = input('Ingrese el precio del prodcuto: ')\n",
        "          st = input('Ingrese el stock del producto: ')\n",
        "          lista_info.append(prec)\n",
        "          lista_info.append(st)\n",
        "          datos_kiosco[prod]=lista_info\n",
        "          print('La nueva planilla del kiosco es:') #Nos muestra la nueva planilla del kiosco\n",
        "          for i in datos_kiosco:\n",
        "            print(i, 'Precio: ', datos_kiosco[i][0], 'Stock: ', datos_kiosco[i][1])\n",
        "\n",
        "\n",
        "        if opc2 == 'mp':\n",
        "          prod=input('Ingrese el nombre del producto que desea modificar: ').lower()\n",
        "          if prod in datos_kiosco:\n",
        "            prec=input('Ingrese el nuevo precio del producto: ')\n",
        "            datos_kiosco[prod][0]=prec\n",
        "            print('La nueva planilla del kiosco es:') #Nos muestra la nueva planilla del kiosco\n",
        "            for i in datos_kiosco:\n",
        "              print(i, 'Precio: ', datos_kiosco[i][0], 'Stock: ', datos_kiosco[i][1])\n",
        "          else:\n",
        "            print('El producto ingresado no existe intente nuevamente')\n",
        "\n",
        "        if opc2 == 'ms':\n",
        "          prod=input('Ingrese el nombre del producto que desea modificar: ').lower()\n",
        "          if prod in datos_kiosco:\n",
        "            st=input('Ingrese el nuevo stock o del producto: ')\n",
        "            datos_kiosco[prod][1]=st \n",
        "            print('La nueva planilla del kiosco es:') #Nos muestra la nueva planilla del kiosco\n",
        "            for i in datos_kiosco:\n",
        "              print(i, 'Precio: ', datos_kiosco[i][0], 'Stock: ', datos_kiosco[i][1])\n",
        "          else:\n",
        "            print('El producto ingresado no existe intente nuevamente')\n",
        "\n",
        "        print('¿Desea hacer algo más en el modo administrador? Ingrese: \\n a ---> para agregar un producto con su precio y stock \\n mp ---> para modificar el precio de un producto \\n ms ---> para modificar el stock de un producto \\n salir---> para salir del modo administrador') \n",
        "        opc2=input().lower()\n",
        "\n",
        "   print('¿Desea hacer algo más? \\n Ingrese c para realizar una compra \\n Ingrese s para ver el stock \\n Ingrese i para ingresar al sistema \\n Ingrese * para salir')\n",
        "   opc=input()\n",
        "   \n",
        "\n",
        "\n",
        "\n",
        "\n"
      ],
      "metadata": {
        "colab": {
          "base_uri": "https://localhost:8080/"
        },
        "id": "Vc_3D7mmrWYK",
        "outputId": "70316c3f-27c9-4bbc-ea21-3fe4b3041738"
      },
      "execution_count": null,
      "outputs": [
        {
          "name": "stdout",
          "output_type": "stream",
          "text": [
            "¿Qué desea hacer? \n",
            " Ingrese c para realizar una compra \n",
            " Ingrese s para ver el stock \n",
            " Ingrese i para ingresar al sistema \n",
            " Ingrese * para salir\n",
            "i\n",
            "Ingrese la contraseña: admin\n",
            "Ingrese: \n",
            " a ---> para agregar un producto con su precio y stock \n",
            " mp ---> para modificar el precio de un producto \n",
            " ms ---> para modificar el stock de un producto \n",
            " salir---> para salir del modo administrador\n",
            "j\n",
            "¿Desea hacer algo más en el modo administrador? Ingrese: \n",
            " a ---> para agregar un producto con su precio y stock \n",
            " mp ---> para modificar el precio de un producto \n",
            " ms ---> para modificar el stock de un producto \n",
            " salir---> para salir del modo administrador\n",
            "*\n",
            "¿Desea hacer algo más en el modo administrador? Ingrese: \n",
            " a ---> para agregar un producto con su precio y stock \n",
            " mp ---> para modificar el precio de un producto \n",
            " ms ---> para modificar el stock de un producto \n",
            " salir---> para salir del modo administrador\n",
            "salir\n",
            "¿Desea hacer algo más? \n",
            " Ingrese c para realizar una compra \n",
            " Ingrese s para ver el stock \n",
            " Ingrese i para ingresar al sistema \n",
            " Ingrese * para salir\n",
            "*\n"
          ]
        }
      ]
    },
    {
      "cell_type": "code",
      "source": [
        "if opc=='i':\n",
        "     contra=input('Ingrese la contraseña')\n",
        "     if contra != 'admin':\n",
        "       print('Contraseña incorrecta')\n",
        "     else: #armo el submenu\n",
        "       print('Ingrese: \\n a ---> para agregar un producto con su precio y stock \\n  mp ---> para modificar el precio de un producto \\n ms ---> para modificar el stock de un producto \\n salir---> para salir') \n",
        "       opc2=input().lower()\n",
        "       lista_info=[]\n",
        "       \n",
        "       while opc2 != 'salir':\n",
        "\n",
        "        if opc2 == 'a':\n",
        "          prod = input('Ingrese el nombre del prodcuto que desea agregar')\n",
        "          prec = input('Ingrese el precio del prodcuto')\n",
        "          st = input('Ingrese el stock del producto')\n",
        "          lista_info.append(prec)\n",
        "          lista_info.append(st)\n",
        "          datos_kiosco[prod]=lista_info\n",
        "\n",
        "        if opc2 == 'mp':\n",
        "          prod=input('Ingrese el nombre del producto que desea modificar').lower()\n",
        "          #validar que el prudcto exista\n",
        "          prec=input('Ingrese el nuevo precio del producto')\n",
        "          datos_kiosco[prod][0]=prec\n",
        "\n",
        "        if opc2 == 'ms':\n",
        "          prod=input('Ingrese el nombre del producto que desea modificar').lower()\n",
        "          #validar que el prudcto exista\n",
        "          st=input('Ingrese el nuevo stock o del producto')\n",
        "          datos_kiosco[prod][1]=st \n",
        "          \n",
        "        print('Ingrese: \\n a ---> para agregar un producto con su precio y stock \\n  mp ---> para modificar el precio de un producto \\n ms ---> para modificar el stock de un producto \\n salir---> para salir') \n",
        "        opc2=input().lower()\n",
        "\n"
      ],
      "metadata": {
        "id": "FoCWhdVhx1Wy"
      },
      "execution_count": null,
      "outputs": []
    },
    {
      "cell_type": "code",
      "source": [
        "print('ingrese su nombre')\n",
        "a=input().lower()\n",
        "print(a)"
      ],
      "metadata": {
        "colab": {
          "base_uri": "https://localhost:8080/"
        },
        "id": "wRl1ylHg1zkP",
        "outputId": "583ab1de-c664-4f9c-d344-5df6032dfc1e"
      },
      "execution_count": null,
      "outputs": [
        {
          "output_type": "stream",
          "name": "stdout",
          "text": [
            "ingrese su nombre\n",
            "LARA1\n",
            "lara1\n"
          ]
        }
      ]
    },
    {
      "cell_type": "code",
      "source": [
        "print('Ingrese: \\n a ---> para agregar un producto con su precio y stock \\n mp ---> para modificar el precio de un producto \\n ms ---> para modificar el stock de un producto \\n salir---> para salir') "
      ],
      "metadata": {
        "colab": {
          "base_uri": "https://localhost:8080/"
        },
        "id": "IlqpRYtAzH8i",
        "outputId": "27791723-7c2e-45a1-c44d-2ca3fa28c891"
      },
      "execution_count": null,
      "outputs": [
        {
          "output_type": "stream",
          "name": "stdout",
          "text": [
            "Ingrese: \n",
            " a ---> para agregar un producto con su precio y stock \n",
            " mp ---> para modificar el precio de un producto \n",
            " ms ---> para modificar el stock de un producto \n",
            " salir---> para salir\n"
          ]
        }
      ]
    },
    {
      "cell_type": "code",
      "source": [
        "#cosas que voy probando\n",
        "diccionario={'lara':[4,3], 'deni': [4,5]}\n",
        "for i in diccionario:\n",
        "  print(i,'precio', diccionario[i][0],'stock', diccionario[i][1])"
      ],
      "metadata": {
        "colab": {
          "base_uri": "https://localhost:8080/"
        },
        "id": "rnKi5iJOuCet",
        "outputId": "05082302-a7b9-4aad-d59a-4c0441d53d98"
      },
      "execution_count": null,
      "outputs": [
        {
          "output_type": "stream",
          "name": "stdout",
          "text": [
            "lara precio 4 stock 3\n",
            "deni precio 4 stock 5\n"
          ]
        }
      ]
    }
  ]
}